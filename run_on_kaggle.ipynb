{
 "cells": [
  {
   "cell_type": "markdown",
   "id": "c912b931",
   "metadata": {},
   "source": [
    "# Run HSIDwRD Codespace on Kaggle\n",
    "This notebook clones your GitHub repo, installs dependencies, and runs your model."
   ]
  },
  {
   "cell_type": "code",
   "execution_count": null,
   "id": "0d7504f7",
   "metadata": {},
   "outputs": [],
   "source": [
    "# 1. Clone the GitHub repository\n",
    "!git clone https://github.com/Simhadri123/HSIDwRD.git /kaggle/working/HSIDwRD\n",
    "!ls /kaggle/working/HSIDwRD"
   ]
  },
  {
   "cell_type": "code",
   "execution_count": null,
   "id": "a179d24a",
   "metadata": {},
   "outputs": [],
   "source": [
    "# 2. Install pytorch-gradual-warmup-lr from GitHub (not on PyPI)\n",
    "!pip install git+https://github.com/ildoonet/pytorch-gradual-warmup-lr.git"
   ]
  },
  {
   "cell_type": "code",
   "execution_count": null,
   "id": "d8dc1866",
   "metadata": {},
   "outputs": [],
   "source": [
    "# 3. Install other requirements\n",
    "!pip install -r /kaggle/working/HSIDwRD/requirements.txt"
   ]
  },
  {
   "cell_type": "code",
   "execution_count": null,
   "id": "8bd7719e",
   "metadata": {},
   "outputs": [],
   "source": [
    "# 4. Run your training or inference script\n",
    "!python /kaggle/working/HSIDwRD/train_denoising.py"
   ]
  }
 ],
 "metadata": {
  "language_info": {
   "name": "python"
  }
 },
 "nbformat": 4,
 "nbformat_minor": 5
}
